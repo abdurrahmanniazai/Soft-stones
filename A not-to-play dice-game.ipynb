{
 "cells": [
  {
   "cell_type": "markdown",
   "id": "b1c3d67d",
   "metadata": {},
   "source": [
    "import PIL"
   ]
  },
  {
   "cell_type": "code",
   "execution_count": 4,
   "id": "5e583942",
   "metadata": {},
   "outputs": [],
   "source": [
    "import tkinter\n"
   ]
  },
  {
   "cell_type": "code",
   "execution_count": 5,
   "id": "99dfce50",
   "metadata": {},
   "outputs": [],
   "source": [
    "from PIL import Image, ImageTk"
   ]
  },
  {
   "cell_type": "code",
   "execution_count": 6,
   "id": "b854d61e",
   "metadata": {},
   "outputs": [],
   "source": [
    "import random"
   ]
  },
  {
   "cell_type": "code",
   "execution_count": 7,
   "id": "e15f1eb5",
   "metadata": {},
   "outputs": [
    {
     "data": {
      "text/plain": [
       "''"
      ]
     },
     "execution_count": 7,
     "metadata": {},
     "output_type": "execute_result"
    }
   ],
   "source": [
    "root = tkinter.Tk()\n",
    "root.geometry('200x200')\n",
    "root.title('DataFlair Roll the Dice')\n"
   ]
  },
  {
   "cell_type": "code",
   "execution_count": null,
   "id": "5893cc6e",
   "metadata": {},
   "outputs": [],
   "source": [
    "root.mainloop()"
   ]
  },
  {
   "cell_type": "code",
   "execution_count": null,
   "id": "3d808447",
   "metadata": {},
   "outputs": [],
   "source": [
    "BlankLine = tkinter.Label(root, text= \"\")\n",
    "BlankLine.pack()\n",
    "\n",
    "HeadingLabel = tkinter.Label(root, text=\"Hello from DataFlair\", fg = \"light green\", bg = \"dark green\", font = \"Helvetica 16 bold italic\")\n",
    "HeadingLabel.pack()\n"
   ]
  },
  {
   "cell_type": "code",
   "execution_count": null,
   "id": "1760ba1b",
   "metadata": {},
   "outputs": [],
   "source": [
    "dice = ['die1.png', 'die2.png', 'die3.png', 'die4.png', 'die5.png', 'die6.png']\n"
   ]
  },
  {
   "cell_type": "code",
   "execution_count": null,
   "id": "f757f2d3",
   "metadata": {},
   "outputs": [],
   "source": [
    "DiceImage= ImageTK.PhotoImage(Image.open(random.choice(dice)))\n"
   ]
  },
  {
   "cell_type": "code",
   "execution_count": null,
   "id": "6a91eb8f",
   "metadata": {},
   "outputs": [],
   "source": [
    "ImageLabel= tkinter.Label(root, image= DiceImage)\n",
    "ImageLabel.image= DiceImage\n",
    "ImageLabel.pack( expand= True)"
   ]
  },
  {
   "cell_type": "code",
   "execution_count": null,
   "id": "0e29f638",
   "metadata": {},
   "outputs": [],
   "source": [
    "dice = ['die1.png', 'die2.png', 'die3.png', 'die4.png', 'die5.png', 'die6.png']\n",
    "# simulating the dice with random numbers between\n",
    "# 0 to 6 and generating image\n",
    "DiceImage = ImageTk.PhotoImage(Image.open(random.choice(dice)))"
   ]
  },
  {
   "cell_type": "code",
   "execution_count": null,
   "id": "fa4b78a0",
   "metadata": {},
   "outputs": [],
   "source": [
    "# construct a label widget for image\n",
    "ImageLabel = tkinter.Label(root, image=DiceImage)\n",
    "ImageLabel.image = DiceImage\n",
    "# packing a widget in the parent widget \n",
    "ImageLabel.pack( expand=True)\n",
    "# function activated by button\n",
    "def rolling_dice():\n",
    "    DiceImage = ImageTk.PhotoImage(Image.open(random.choice(dice)))\n",
    "    # update image\n",
    "    ImageLabel.configure(image=DiceImage)\n",
    "    # keep a reference\n",
    "    ImageLabel.image = DiceImage\n",
    "# adding button, and command will use rolling_dice function\n",
    "button = tkinter.Button(root, text='Roll the Dice', fg='blue', command=rolling_dice)\n",
    "# pack a widget in the parent widget\n",
    "button.pack( expand=True)"
   ]
  },
  {
   "cell_type": "code",
   "execution_count": null,
   "id": "0ff37fdc",
   "metadata": {},
   "outputs": [],
   "source": []
  },
  {
   "cell_type": "code",
   "execution_count": null,
   "id": "db9fc00d",
   "metadata": {},
   "outputs": [],
   "source": []
  }
 ],
 "metadata": {
  "kernelspec": {
   "display_name": "Python 3 (ipykernel)",
   "language": "python",
   "name": "python3"
  },
  "language_info": {
   "codemirror_mode": {
    "name": "ipython",
    "version": 3
   },
   "file_extension": ".py",
   "mimetype": "text/x-python",
   "name": "python",
   "nbconvert_exporter": "python",
   "pygments_lexer": "ipython3",
   "version": "3.9.12"
  }
 },
 "nbformat": 4,
 "nbformat_minor": 5
}
